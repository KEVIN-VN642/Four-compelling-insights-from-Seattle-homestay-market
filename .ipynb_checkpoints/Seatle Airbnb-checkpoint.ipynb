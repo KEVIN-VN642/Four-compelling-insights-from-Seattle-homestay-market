{
 "cells": [
  {
   "cell_type": "markdown",
   "id": "9b47e72f-13a5-48c7-93fd-772773fafb21",
   "metadata": {},
   "source": [
    "# Important things to know when plan a trip to Seatle with AirBnb"
   ]
  },
  {
   "cell_type": "code",
   "execution_count": 2,
   "id": "9a495e39-0d3e-44bd-9208-3d29b60abafc",
   "metadata": {},
   "outputs": [],
   "source": [
    "#Import necessary packages\n",
    "import pandas as pd\n",
    "import numpy as np\n",
    "import seaborn as sns\n",
    "import matplotlib.pyplot as plt\n",
    "%matplotlib inline"
   ]
  },
  {
   "cell_type": "code",
   "execution_count": 3,
   "id": "7b3bca9f-02cd-491b-b096-a40d3663616f",
   "metadata": {},
   "outputs": [],
   "source": [
    "# Import datasets\n",
    "calendar = pd.read_csv(\"Data/calendar.csv\")\n",
    "listings = pd.read_csv(\"Data/listings.csv\")\n",
    "reviews = pd.read_csv(\"Data/reviews.csv\")"
   ]
  },
  {
   "cell_type": "markdown",
   "id": "660ddde2-bff4-48b4-926f-6c0dd5dd6608",
   "metadata": {},
   "source": [
    "# 1. Basic Data Exploratory\n",
    "We will going to explore some basic information about the data in order to have better understanding"
   ]
  },
  {
   "cell_type": "markdown",
   "id": "006ca3c8-f8b3-4544-8732-c8c5c239835a",
   "metadata": {},
   "source": [
    "### 1.1 Calendar Dataset"
   ]
  },
  {
   "cell_type": "code",
   "execution_count": 4,
   "id": "bdbc7e9a-2c52-4e43-a864-66fb7f855967",
   "metadata": {},
   "outputs": [
    {
     "data": {
      "text/html": [
       "<div>\n",
       "<style scoped>\n",
       "    .dataframe tbody tr th:only-of-type {\n",
       "        vertical-align: middle;\n",
       "    }\n",
       "\n",
       "    .dataframe tbody tr th {\n",
       "        vertical-align: top;\n",
       "    }\n",
       "\n",
       "    .dataframe thead th {\n",
       "        text-align: right;\n",
       "    }\n",
       "</style>\n",
       "<table border=\"1\" class=\"dataframe\">\n",
       "  <thead>\n",
       "    <tr style=\"text-align: right;\">\n",
       "      <th></th>\n",
       "      <th>listing_id</th>\n",
       "      <th>date</th>\n",
       "      <th>available</th>\n",
       "      <th>price</th>\n",
       "    </tr>\n",
       "  </thead>\n",
       "  <tbody>\n",
       "    <tr>\n",
       "      <th>0</th>\n",
       "      <td>241032</td>\n",
       "      <td>2016-01-04</td>\n",
       "      <td>t</td>\n",
       "      <td>$85.00</td>\n",
       "    </tr>\n",
       "    <tr>\n",
       "      <th>1</th>\n",
       "      <td>241032</td>\n",
       "      <td>2016-01-05</td>\n",
       "      <td>t</td>\n",
       "      <td>$85.00</td>\n",
       "    </tr>\n",
       "    <tr>\n",
       "      <th>2</th>\n",
       "      <td>241032</td>\n",
       "      <td>2016-01-06</td>\n",
       "      <td>f</td>\n",
       "      <td>NaN</td>\n",
       "    </tr>\n",
       "    <tr>\n",
       "      <th>3</th>\n",
       "      <td>241032</td>\n",
       "      <td>2016-01-07</td>\n",
       "      <td>f</td>\n",
       "      <td>NaN</td>\n",
       "    </tr>\n",
       "    <tr>\n",
       "      <th>4</th>\n",
       "      <td>241032</td>\n",
       "      <td>2016-01-08</td>\n",
       "      <td>f</td>\n",
       "      <td>NaN</td>\n",
       "    </tr>\n",
       "  </tbody>\n",
       "</table>\n",
       "</div>"
      ],
      "text/plain": [
       "   listing_id        date available   price\n",
       "0      241032  2016-01-04         t  $85.00\n",
       "1      241032  2016-01-05         t  $85.00\n",
       "2      241032  2016-01-06         f     NaN\n",
       "3      241032  2016-01-07         f     NaN\n",
       "4      241032  2016-01-08         f     NaN"
      ]
     },
     "execution_count": 4,
     "metadata": {},
     "output_type": "execute_result"
    }
   ],
   "source": [
    "calendar.head()"
   ]
  },
  {
   "cell_type": "code",
   "execution_count": 252,
   "id": "b3c21c46-7665-4177-88c8-d00ce33c88f1",
   "metadata": {},
   "outputs": [
    {
     "data": {
      "text/plain": [
       "array(['t', 'f'], dtype=object)"
      ]
     },
     "execution_count": 252,
     "metadata": {},
     "output_type": "execute_result"
    }
   ],
   "source": [
    "calendar.available.unique()  # There are only two values in available column"
   ]
  },
  {
   "cell_type": "code",
   "execution_count": 253,
   "id": "282c97bd-4125-4c6a-b65d-c1a11ac2e2df",
   "metadata": {},
   "outputs": [
    {
     "name": "stdout",
     "output_type": "stream",
     "text": [
      "Calendar dataset has 1393570 rows and 4 columns\n"
     ]
    }
   ],
   "source": [
    "print(f\"Calendar dataset has {calendar.shape[0]} rows and {calendar.shape[1]} columns\")"
   ]
  },
  {
   "cell_type": "code",
   "execution_count": 254,
   "id": "29226471-b463-4df3-9ab5-66f36cc02f43",
   "metadata": {},
   "outputs": [
    {
     "name": "stdout",
     "output_type": "stream",
     "text": [
      "listing_id    0.00000\n",
      "date          0.00000\n",
      "available     0.00000\n",
      "price         0.32939\n",
      "dtype: float64\n",
      "\n",
      "Only price column having missing data\n",
      "\n"
     ]
    },
    {
     "data": {
      "image/png": "[encoded data removed]",
      "text/plain": [
       "<Figure size 432x288 with 1 Axes>"
      ]
     },
     "metadata": {
      "needs_background": "light"
     },
     "output_type": "display_data"
    }
   ],
   "source": [
    "print(calendar.isnull().mean())\n",
    "print(\"\\nOnly price column having missing data\\n\")\n",
    "calendar.isnull().mean().plot.bar(title = \"Percentage of missing data in each column\");"
   ]
  },
  {
   "cell_type": "markdown",
   "id": "86d9fcb6-e668-4458-8a14-812b202e92d1",
   "metadata": {},
   "source": [
    "The coverage of this dataset is quite good, only price column contains missing values and percentage of missing values are 32%."
   ]
  },
  {
   "cell_type": "markdown",
   "id": "79e48f65-e38b-46be-9d75-37df41687838",
   "metadata": {},
   "source": [
    "### 1.2 Listings dataset"
   ]
  },
  {
   "cell_type": "code",
   "execution_count": 5,
   "id": "f2148d61-baa2-4827-960a-a6f9e8be98d9",
   "metadata": {},
   "outputs": [
    {
     "data": {
      "text/html": [
       "<div>\n",
       "<style scoped>\n",
       "    .dataframe tbody tr th:only-of-type {\n",
       "        vertical-align: middle;\n",
       "    }\n",
       "\n",
       "    .dataframe tbody tr th {\n",
       "        vertical-align: top;\n",
       "    }\n",
       "\n",
       "    .dataframe thead th {\n",
       "        text-align: right;\n",
       "    }\n",
       "</style>\n",
       "<table border=\"1\" class=\"dataframe\">\n",
       "  <thead>\n",
       "    <tr style=\"text-align: right;\">\n",
       "      <th></th>\n",
       "      <th>id</th>\n",
       "      <th>listing_url</th>\n",
       "      <th>scrape_id</th>\n",
       "      <th>last_scraped</th>\n",
       "      <th>name</th>\n",
       "      <th>summary</th>\n",
       "      <th>space</th>\n",
       "      <th>description</th>\n",
       "      <th>experiences_offered</th>\n",
       "      <th>neighborhood_overview</th>\n",
       "      <th>...</th>\n",
       "      <th>review_scores_value</th>\n",
       "      <th>requires_license</th>\n",
       "      <th>license</th>\n",
       "      <th>jurisdiction_names</th>\n",
       "      <th>instant_bookable</th>\n",
       "      <th>cancellation_policy</th>\n",
       "      <th>require_guest_profile_picture</th>\n",
       "      <th>require_guest_phone_verification</th>\n",
       "      <th>calculated_host_listings_count</th>\n",
       "      <th>reviews_per_month</th>\n",
       "    </tr>\n",
       "  </thead>\n",
       "  <tbody>\n",
       "    <tr>\n",
       "      <th>0</th>\n",
       "      <td>241032</td>\n",
       "      <td>https://www.airbnb.com/rooms/241032</td>\n",
       "      <td>2.016010e+13</td>\n",
       "      <td>1/4/2016</td>\n",
       "      <td>Stylish Queen Anne Apartment</td>\n",
       "      <td>NaN</td>\n",
       "      <td>Make your self at home in this charming one-be...</td>\n",
       "      <td>Make your self at home in this charming one-be...</td>\n",
       "      <td>none</td>\n",
       "      <td>NaN</td>\n",
       "      <td>...</td>\n",
       "      <td>10.0</td>\n",
       "      <td>f</td>\n",
       "      <td>NaN</td>\n",
       "      <td>WASHINGTON</td>\n",
       "      <td>f</td>\n",
       "      <td>moderate</td>\n",
       "      <td>f</td>\n",
       "      <td>f</td>\n",
       "      <td>2</td>\n",
       "      <td>4.07</td>\n",
       "    </tr>\n",
       "    <tr>\n",
       "      <th>1</th>\n",
       "      <td>953595</td>\n",
       "      <td>https://www.airbnb.com/rooms/953595</td>\n",
       "      <td>2.016010e+13</td>\n",
       "      <td>1/4/2016</td>\n",
       "      <td>Bright &amp; Airy Queen Anne Apartment</td>\n",
       "      <td>Chemically sensitive? We've removed the irrita...</td>\n",
       "      <td>Beautiful, hypoallergenic apartment in an extr...</td>\n",
       "      <td>Chemically sensitive? We've removed the irrita...</td>\n",
       "      <td>none</td>\n",
       "      <td>Queen Anne is a wonderful, truly functional vi...</td>\n",
       "      <td>...</td>\n",
       "      <td>10.0</td>\n",
       "      <td>f</td>\n",
       "      <td>NaN</td>\n",
       "      <td>WASHINGTON</td>\n",
       "      <td>f</td>\n",
       "      <td>strict</td>\n",
       "      <td>t</td>\n",
       "      <td>t</td>\n",
       "      <td>6</td>\n",
       "      <td>1.48</td>\n",
       "    </tr>\n",
       "    <tr>\n",
       "      <th>2</th>\n",
       "      <td>3308979</td>\n",
       "      <td>https://www.airbnb.com/rooms/3308979</td>\n",
       "      <td>2.016010e+13</td>\n",
       "      <td>1/4/2016</td>\n",
       "      <td>New Modern House-Amazing water view</td>\n",
       "      <td>New modern house built in 2013.  Spectacular s...</td>\n",
       "      <td>Our house is modern, light and fresh with a wa...</td>\n",
       "      <td>New modern house built in 2013.  Spectacular s...</td>\n",
       "      <td>none</td>\n",
       "      <td>Upper Queen Anne is a charming neighborhood fu...</td>\n",
       "      <td>...</td>\n",
       "      <td>10.0</td>\n",
       "      <td>f</td>\n",
       "      <td>NaN</td>\n",
       "      <td>WASHINGTON</td>\n",
       "      <td>f</td>\n",
       "      <td>strict</td>\n",
       "      <td>f</td>\n",
       "      <td>f</td>\n",
       "      <td>2</td>\n",
       "      <td>1.15</td>\n",
       "    </tr>\n",
       "  </tbody>\n",
       "</table>\n",
       "<p>3 rows × 92 columns</p>\n",
       "</div>"
      ],
      "text/plain": [
       "        id                           listing_url     scrape_id last_scraped  \\\n",
       "0   241032   https://www.airbnb.com/rooms/241032  2.016010e+13     1/4/2016   \n",
       "1   953595   https://www.airbnb.com/rooms/953595  2.016010e+13     1/4/2016   \n",
       "2  3308979  https://www.airbnb.com/rooms/3308979  2.016010e+13     1/4/2016   \n",
       "\n",
       "                                  name  \\\n",
       "0         Stylish Queen Anne Apartment   \n",
       "1   Bright & Airy Queen Anne Apartment   \n",
       "2  New Modern House-Amazing water view   \n",
       "\n",
       "                                             summary  \\\n",
       "0                                                NaN   \n",
       "1  Chemically sensitive? We've removed the irrita...   \n",
       "2  New modern house built in 2013.  Spectacular s...   \n",
       "\n",
       "                                               space  \\\n",
       "0  Make your self at home in this charming one-be...   \n",
       "1  Beautiful, hypoallergenic apartment in an extr...   \n",
       "2  Our house is modern, light and fresh with a wa...   \n",
       "\n",
       "                                         description experiences_offered  \\\n",
       "0  Make your self at home in this charming one-be...                none   \n",
       "1  Chemically sensitive? We've removed the irrita...                none   \n",
       "2  New modern house built in 2013.  Spectacular s...                none   \n",
       "\n",
       "                               neighborhood_overview  ... review_scores_value  \\\n",
       "0                                                NaN  ...                10.0   \n",
       "1  Queen Anne is a wonderful, truly functional vi...  ...                10.0   \n",
       "2  Upper Queen Anne is a charming neighborhood fu...  ...                10.0   \n",
       "\n",
       "  requires_license license jurisdiction_names instant_bookable  \\\n",
       "0                f     NaN         WASHINGTON                f   \n",
       "1                f     NaN         WASHINGTON                f   \n",
       "2                f     NaN         WASHINGTON                f   \n",
       "\n",
       "  cancellation_policy  require_guest_profile_picture  \\\n",
       "0            moderate                              f   \n",
       "1              strict                              t   \n",
       "2              strict                              f   \n",
       "\n",
       "  require_guest_phone_verification calculated_host_listings_count  \\\n",
       "0                                f                              2   \n",
       "1                                t                              6   \n",
       "2                                f                              2   \n",
       "\n",
       "  reviews_per_month  \n",
       "0              4.07  \n",
       "1              1.48  \n",
       "2              1.15  \n",
       "\n",
       "[3 rows x 92 columns]"
      ]
     },
     "execution_count": 5,
     "metadata": {},
     "output_type": "execute_result"
    }
   ],
   "source": [
    "listings.head(3)"
   ]
  },
  {
   "cell_type": "code",
   "execution_count": 6,
   "id": "2e9bf1e8-015e-4ad7-bed0-a38f3078cd8b",
   "metadata": {},
   "outputs": [
    {
     "name": "stdout",
     "output_type": "stream",
     "text": [
      "Listings dataset has 3818 rows and 92 columns\n"
     ]
    }
   ],
   "source": [
    "print(f\"Listings dataset has {listings.shape[0]} rows and {listings.shape[1]} columns\")"
   ]
  },
  {
   "cell_type": "code",
   "execution_count": 7,
   "id": "036b3535-e02b-4bf3-9a3b-08cf569e010f",
   "metadata": {},
   "outputs": [
    {
     "data": {
      "text/plain": [
       "license                  1.000000\n",
       "square_feet              0.974594\n",
       "monthly_price            0.602672\n",
       "security_deposit         0.511262\n",
       "weekly_price             0.473808\n",
       "notes                    0.420639\n",
       "neighborhood_overview    0.270299\n",
       "cleaning_fee             0.269775\n",
       "transit                  0.244631\n",
       "host_about               0.224987\n",
       "dtype: float64"
      ]
     },
     "execution_count": 7,
     "metadata": {},
     "output_type": "execute_result"
    }
   ],
   "source": [
    "#percentage of missing values in each column\n",
    "listings.isnull().mean().sort_values(ascending=False).head(10)"
   ]
  },
  {
   "cell_type": "markdown",
   "id": "27153150-650d-4c14-9652-fb4966ecca04",
   "metadata": {},
   "source": [
    "It can be seen that almost values in columns \"license\" and \"square_feet\" are Nan, we will drop these two columns."
   ]
  },
  {
   "cell_type": "code",
   "execution_count": 8,
   "id": "861652c9-2e94-475b-a20e-3ee6c9971723",
   "metadata": {},
   "outputs": [],
   "source": [
    "#drop license and square_feet columns\n",
    "listings = listings.drop(['license', 'square_feet'],axis=1)"
   ]
  },
  {
   "cell_type": "code",
   "execution_count": 9,
   "id": "f3208aa8-2b07-4fe8-83e7-2499825881d5",
   "metadata": {},
   "outputs": [
    {
     "data": {
      "text/plain": [
       "(3818, 90)"
      ]
     },
     "execution_count": 9,
     "metadata": {},
     "output_type": "execute_result"
    }
   ],
   "source": [
    "listings.shape"
   ]
  },
  {
   "cell_type": "markdown",
   "id": "5b6d145d-2723-44d5-bb01-4b091aebd3d7",
   "metadata": {},
   "source": [
    "### 1.3 Reviewings dataset"
   ]
  },
  {
   "cell_type": "code",
   "execution_count": 260,
   "id": "a5df6cf6-85f9-4d7e-adf1-6423b283f9c8",
   "metadata": {},
   "outputs": [
    {
     "data": {
      "text/html": [
       "<div>\n",
       "<style scoped>\n",
       "    .dataframe tbody tr th:only-of-type {\n",
       "        vertical-align: middle;\n",
       "    }\n",
       "\n",
       "    .dataframe tbody tr th {\n",
       "        vertical-align: top;\n",
       "    }\n",
       "\n",
       "    .dataframe thead th {\n",
       "        text-align: right;\n",
       "    }\n",
       "</style>\n",
       "<table border=\"1\" class=\"dataframe\">\n",
       "  <thead>\n",
       "    <tr style=\"text-align: right;\">\n",
       "      <th></th>\n",
       "      <th>listing_id</th>\n",
       "      <th>id</th>\n",
       "      <th>date</th>\n",
       "      <th>reviewer_id</th>\n",
       "      <th>reviewer_name</th>\n",
       "      <th>comments</th>\n",
       "    </tr>\n",
       "  </thead>\n",
       "  <tbody>\n",
       "    <tr>\n",
       "      <th>0</th>\n",
       "      <td>7202016</td>\n",
       "      <td>38917982</td>\n",
       "      <td>2015-07-19</td>\n",
       "      <td>28943674</td>\n",
       "      <td>Bianca</td>\n",
       "      <td>Cute and cozy place. Perfect location to every...</td>\n",
       "    </tr>\n",
       "    <tr>\n",
       "      <th>1</th>\n",
       "      <td>7202016</td>\n",
       "      <td>39087409</td>\n",
       "      <td>2015-07-20</td>\n",
       "      <td>32440555</td>\n",
       "      <td>Frank</td>\n",
       "      <td>Kelly has a great room in a very central locat...</td>\n",
       "    </tr>\n",
       "    <tr>\n",
       "      <th>2</th>\n",
       "      <td>7202016</td>\n",
       "      <td>39820030</td>\n",
       "      <td>2015-07-26</td>\n",
       "      <td>37722850</td>\n",
       "      <td>Ian</td>\n",
       "      <td>Very spacious apartment, and in a great neighb...</td>\n",
       "    </tr>\n",
       "    <tr>\n",
       "      <th>3</th>\n",
       "      <td>7202016</td>\n",
       "      <td>40813543</td>\n",
       "      <td>2015-08-02</td>\n",
       "      <td>33671805</td>\n",
       "      <td>George</td>\n",
       "      <td>Close to Seattle Center and all it has to offe...</td>\n",
       "    </tr>\n",
       "    <tr>\n",
       "      <th>4</th>\n",
       "      <td>7202016</td>\n",
       "      <td>41986501</td>\n",
       "      <td>2015-08-10</td>\n",
       "      <td>34959538</td>\n",
       "      <td>Ming</td>\n",
       "      <td>Kelly was a great host and very accommodating ...</td>\n",
       "    </tr>\n",
       "  </tbody>\n",
       "</table>\n",
       "</div>"
      ],
      "text/plain": [
       "   listing_id        id        date  reviewer_id reviewer_name  \\\n",
       "0     7202016  38917982  2015-07-19     28943674        Bianca   \n",
       "1     7202016  39087409  2015-07-20     32440555         Frank   \n",
       "2     7202016  39820030  2015-07-26     37722850           Ian   \n",
       "3     7202016  40813543  2015-08-02     33671805        George   \n",
       "4     7202016  41986501  2015-08-10     34959538          Ming   \n",
       "\n",
       "                                            comments  \n",
       "0  Cute and cozy place. Perfect location to every...  \n",
       "1  Kelly has a great room in a very central locat...  \n",
       "2  Very spacious apartment, and in a great neighb...  \n",
       "3  Close to Seattle Center and all it has to offe...  \n",
       "4  Kelly was a great host and very accommodating ...  "
      ]
     },
     "execution_count": 260,
     "metadata": {},
     "output_type": "execute_result"
    }
   ],
   "source": [
    "reviews.head()"
   ]
  },
  {
   "cell_type": "code",
   "execution_count": 261,
   "id": "443987ac-9b74-4d89-8ad4-1923e283f1b0",
   "metadata": {},
   "outputs": [
    {
     "data": {
      "text/plain": [
       "comments         0.000212\n",
       "listing_id       0.000000\n",
       "id               0.000000\n",
       "date             0.000000\n",
       "reviewer_id      0.000000\n",
       "reviewer_name    0.000000\n",
       "dtype: float64"
      ]
     },
     "execution_count": 261,
     "metadata": {},
     "output_type": "execute_result"
    }
   ],
   "source": [
    "#percentage of missing values in each column\n",
    "reviews.isnull().mean().sort_values(ascending=False)"
   ]
  },
  {
   "cell_type": "markdown",
   "id": "c63833e2-0a6d-49e8-857d-701d60ff0383",
   "metadata": {},
   "source": [
    "We do not have missing data issues in \"reviews\" dataset."
   ]
  },
  {
   "cell_type": "markdown",
   "id": "83cced37-69d7-43b7-9c8b-ab0eb494125d",
   "metadata": {},
   "source": [
    "# 2. Data Cleaning\n",
    "In this part, we will do some data cleaning work. Two major works are:\n",
    "- Drop invariable columns in each dataset\n",
    "- Some quantitative columns in string format and contain non-numeric characters, we need to convert these columns to numerics ones."
   ]
  },
  {
   "cell_type": "markdown",
   "id": "d88aec43-d555-403a-bb91-a9b517c327f7",
   "metadata": {},
   "source": [
    "## 2.1 Drop invariable columns"
   ]
  },
  {
   "cell_type": "code",
   "execution_count": 10,
   "id": "b84e74f8-b697-40d8-a1fb-c994e82ea953",
   "metadata": {},
   "outputs": [],
   "source": [
    "def invar_column_drop(data,pct=0.99):\n",
    "    \"\"\"\n",
    "    Inputs:\n",
    "        data: input dataframe\n",
    "        pct: the maximum threshold in percentage that one one values can appear in each column\n",
    "    Output:\n",
    "        Return a dataframe that already drop invariable columns\n",
    "    \"\"\"\n",
    "    cols = data.columns\n",
    "    for col in cols:\n",
    "        if data[col].value_counts().max() >= pct*data.shape[0]:\n",
    "            data = data.drop(col,axis=1)\n",
    "    return data"
   ]
  },
  {
   "cell_type": "code",
   "execution_count": 11,
   "id": "bc04f223-b59e-4d8e-8cf2-ac9eb04d4f0e",
   "metadata": {},
   "outputs": [],
   "source": [
    "#drop invariable columns in each dataset\n",
    "calendar = invar_column_drop(calendar,pct=0.99)\n",
    "listings = invar_column_drop(listings,pct=0.99)\n",
    "reviews = invar_column_drop(reviews,pct=0.99)"
   ]
  },
  {
   "cell_type": "code",
   "execution_count": 12,
   "id": "52f56862-5c92-4a16-bb7f-a64930a1568e",
   "metadata": {},
   "outputs": [
    {
     "name": "stdout",
     "output_type": "stream",
     "text": [
      "Updated calendar shape: (1393570, 4)\n",
      "Updated listings shape: (3818, 76)\n",
      "Updated reviews shape: (84849, 6)\n"
     ]
    }
   ],
   "source": [
    "#New shape for each dataframe\n",
    "print(\"Updated calendar shape:\", calendar.shape)\n",
    "print(\"Updated listings shape:\", listings.shape)\n",
    "print(\"Updated reviews shape:\", reviews.shape)"
   ]
  },
  {
   "cell_type": "markdown",
   "id": "ce6ec53e-6f5f-4515-b685-51db1f4cc9b7",
   "metadata": {},
   "source": [
    "### 2.2 Convert numeric string columns into numeric columns"
   ]
  },
  {
   "cell_type": "code",
   "execution_count": 13,
   "id": "b8ac04d9-92a8-44c6-bd46-adfe6b7078eb",
   "metadata": {},
   "outputs": [],
   "source": [
    "def price_to_numeric(df,col):\n",
    "    \"\"\"\n",
    "    INPUT:\n",
    "        df: input dataframe\n",
    "        col: column need to convert\n",
    "    OUTPUT:\n",
    "        return new dataset contained new quantitative variables\n",
    "    \"\"\"\n",
    "    #remove commas\n",
    "    df[col] = df[col].map(lambda x: str(x).replace(\",\",\"\") if (\",\" in str(x)) else str(x))\n",
    "    #remove dollar sign\n",
    "    df[col] = df[col].map(lambda x: str(x)[1:] if (\"$\" in str(x)) else str(x))\n",
    "    #convert to numeric\n",
    "    df[col]= pd.to_numeric(df[col],errors='coerce')\n",
    "    \n",
    "    return df"
   ]
  },
  {
   "cell_type": "code",
   "execution_count": 14,
   "id": "b01061e3-e4f9-4d9a-ad1f-f326e9a171f8",
   "metadata": {},
   "outputs": [],
   "source": [
    "#Apply convertion to calendar dataset\n",
    "calendar = price_to_numeric(calendar,\"price\")"
   ]
  },
  {
   "cell_type": "code",
   "execution_count": null,
   "id": "85c644c1-7ccd-4b8c-8f5b-08fe8a788c4d",
   "metadata": {},
   "outputs": [],
   "source": [
    "#apply convertion to listings dataset\n",
    "price_convert_list = [\"price\", \"weekly_price\", \"monthly_price\", \"security_deposit\", \"cleaning_fee\",\"extra_people\"]\n",
    "for col in price_convert_list:\n",
    "    listings = price_to_numeric(listings,col)"
   ]
  },
  {
   "cell_type": "markdown",
   "id": "7b7fd6b4-5775-4d16-8103-d28a3bac7385",
   "metadata": {},
   "source": [
    "# 3. Analysis"
   ]
  },
  {
   "cell_type": "markdown",
   "id": "4bdd7c28-8ebd-4eda-929a-689d0e4d3df2",
   "metadata": {},
   "source": [
    "### 3.1 When is the right time for a trip? "
   ]
  },
  {
   "cell_type": "code",
   "execution_count": null,
   "id": "673b855e-7855-4960-aba2-0861a895e9c4",
   "metadata": {},
   "outputs": [
    {
     "data": {
      "text/html": [
       "<div>\n",
       "<style scoped>\n",
       "    .dataframe tbody tr th:only-of-type {\n",
       "        vertical-align: middle;\n",
       "    }\n",
       "\n",
       "    .dataframe tbody tr th {\n",
       "        vertical-align: top;\n",
       "    }\n",
       "\n",
       "    .dataframe thead th {\n",
       "        text-align: right;\n",
       "    }\n",
       "</style>\n",
       "<table border=\"1\" class=\"dataframe\">\n",
       "  <thead>\n",
       "    <tr style=\"text-align: right;\">\n",
       "      <th></th>\n",
       "      <th>listing_id</th>\n",
       "      <th>date</th>\n",
       "      <th>available</th>\n",
       "      <th>price</th>\n",
       "    </tr>\n",
       "  </thead>\n",
       "  <tbody>\n",
       "    <tr>\n",
       "      <th>0</th>\n",
       "      <td>241032</td>\n",
       "      <td>2016-01-04</td>\n",
       "      <td>t</td>\n",
       "      <td>85.0</td>\n",
       "    </tr>\n",
       "    <tr>\n",
       "      <th>1</th>\n",
       "      <td>241032</td>\n",
       "      <td>2016-01-05</td>\n",
       "      <td>t</td>\n",
       "      <td>85.0</td>\n",
       "    </tr>\n",
       "    <tr>\n",
       "      <th>2</th>\n",
       "      <td>241032</td>\n",
       "      <td>2016-01-06</td>\n",
       "      <td>f</td>\n",
       "      <td>NaN</td>\n",
       "    </tr>\n",
       "    <tr>\n",
       "      <th>3</th>\n",
       "      <td>241032</td>\n",
       "      <td>2016-01-07</td>\n",
       "      <td>f</td>\n",
       "      <td>NaN</td>\n",
       "    </tr>\n",
       "    <tr>\n",
       "      <th>4</th>\n",
       "      <td>241032</td>\n",
       "      <td>2016-01-08</td>\n",
       "      <td>f</td>\n",
       "      <td>NaN</td>\n",
       "    </tr>\n",
       "  </tbody>\n",
       "</table>\n",
       "</div>"
      ],
      "text/plain": [
       "   listing_id        date available  price\n",
       "0      241032  2016-01-04         t   85.0\n",
       "1      241032  2016-01-05         t   85.0\n",
       "2      241032  2016-01-06         f    NaN\n",
       "3      241032  2016-01-07         f    NaN\n",
       "4      241032  2016-01-08         f    NaN"
      ]
     },
     "execution_count": 17,
     "metadata": {},
     "output_type": "execute_result"
    }
   ],
   "source": [
    "calendar.head()"
   ]
  },
  {
   "cell_type": "code",
   "execution_count": null,
   "id": "313347c8-ec34-41e8-a628-aa1ab609f015",
   "metadata": {},
   "outputs": [
    {
     "data": {
      "image/png": "[encoded data removed]",
      "text/plain": [
       "<Figure size 1080x504 with 1 Axes>"
      ]
     },
     "metadata": {
      "needs_background": "light"
     },
     "output_type": "display_data"
    }
   ],
   "source": [
    "calendar.groupby('date').mean()['price'].plot.line(x = 'date',y='price',figsize = (15,7),title=\"Average listing prices over time\",grid=True);"
   ]
  },
  {
   "cell_type": "markdown",
   "id": "2a605dc8-bc27-4f2b-98ab-e2450e659ece",
   "metadata": {},
   "source": [
    "The chart shows that renting price is lowest in January then go up gradually in following months. Price reached peak in Jun, July and August then slowly go down but still morderately high."
   ]
  },
  {
   "cell_type": "markdown",
   "id": "53bfba96-0d19-4f8b-8505-65c4ed220c02",
   "metadata": {},
   "source": [
    "### 3.2 What are top recommended listing hosts?\n",
    "There are various information about listing hosts which are available in Airbnb. We will base on different review_scores to recommend visitors top hosts in Seatle. Each host may have more than one listing, so in order to get reliable information we will summarize all information relating to each host and then based on this summary information to pick a list of recommened hosts."
   ]
  },
  {
   "cell_type": "code",
   "execution_count": 51,
   "id": "3c9c9816-9d1c-4edf-b8b7-01552a286d9d",
   "metadata": {},
   "outputs": [],
   "source": [
    "#Summarize host information\n",
    "listing_hosts = listings.groupby(\"host_id\").mean()[[\"host_listings_count\", \"review_scores_rating\", \"review_scores_communication\", \"review_scores_location\",\\\n",
    "                           \"review_scores_cleanliness\",\"review_scores_value\",\"review_scores_checkin\", \"price\"]]"
   ]
  },
  {
   "cell_type": "code",
   "execution_count": 52,
   "id": "e45a6646-640b-4357-b9a0-7fe46f515113",
   "metadata": {},
   "outputs": [
    {
     "data": {
      "text/html": [
       "<div>\n",
       "<style scoped>\n",
       "    .dataframe tbody tr th:only-of-type {\n",
       "        vertical-align: middle;\n",
       "    }\n",
       "\n",
       "    .dataframe tbody tr th {\n",
       "        vertical-align: top;\n",
       "    }\n",
       "\n",
       "    .dataframe thead th {\n",
       "        text-align: right;\n",
       "    }\n",
       "</style>\n",
       "<table border=\"1\" class=\"dataframe\">\n",
       "  <thead>\n",
       "    <tr style=\"text-align: right;\">\n",
       "      <th></th>\n",
       "      <th>host_listings_count</th>\n",
       "      <th>review_scores_rating</th>\n",
       "      <th>review_scores_communication</th>\n",
       "      <th>review_scores_location</th>\n",
       "      <th>review_scores_cleanliness</th>\n",
       "      <th>review_scores_value</th>\n",
       "      <th>review_scores_checkin</th>\n",
       "      <th>price</th>\n",
       "    </tr>\n",
       "    <tr>\n",
       "      <th>host_id</th>\n",
       "      <th></th>\n",
       "      <th></th>\n",
       "      <th></th>\n",
       "      <th></th>\n",
       "      <th></th>\n",
       "      <th></th>\n",
       "      <th></th>\n",
       "      <th></th>\n",
       "    </tr>\n",
       "  </thead>\n",
       "  <tbody>\n",
       "    <tr>\n",
       "      <th>26475960</th>\n",
       "      <td>3.0</td>\n",
       "      <td>100.0</td>\n",
       "      <td>10.0</td>\n",
       "      <td>10.0</td>\n",
       "      <td>10.0</td>\n",
       "      <td>10.0</td>\n",
       "      <td>10.0</td>\n",
       "      <td>45.000000</td>\n",
       "    </tr>\n",
       "    <tr>\n",
       "      <th>36993883</th>\n",
       "      <td>4.0</td>\n",
       "      <td>100.0</td>\n",
       "      <td>10.0</td>\n",
       "      <td>10.0</td>\n",
       "      <td>10.0</td>\n",
       "      <td>10.0</td>\n",
       "      <td>10.0</td>\n",
       "      <td>62.000000</td>\n",
       "    </tr>\n",
       "    <tr>\n",
       "      <th>807116</th>\n",
       "      <td>3.0</td>\n",
       "      <td>100.0</td>\n",
       "      <td>10.0</td>\n",
       "      <td>10.0</td>\n",
       "      <td>10.0</td>\n",
       "      <td>10.0</td>\n",
       "      <td>10.0</td>\n",
       "      <td>78.500000</td>\n",
       "    </tr>\n",
       "    <tr>\n",
       "      <th>7785901</th>\n",
       "      <td>3.0</td>\n",
       "      <td>100.0</td>\n",
       "      <td>10.0</td>\n",
       "      <td>10.0</td>\n",
       "      <td>10.0</td>\n",
       "      <td>10.0</td>\n",
       "      <td>10.0</td>\n",
       "      <td>111.333333</td>\n",
       "    </tr>\n",
       "    <tr>\n",
       "      <th>1608733</th>\n",
       "      <td>4.0</td>\n",
       "      <td>100.0</td>\n",
       "      <td>10.0</td>\n",
       "      <td>10.0</td>\n",
       "      <td>10.0</td>\n",
       "      <td>10.0</td>\n",
       "      <td>10.0</td>\n",
       "      <td>122.000000</td>\n",
       "    </tr>\n",
       "    <tr>\n",
       "      <th>36057637</th>\n",
       "      <td>4.0</td>\n",
       "      <td>100.0</td>\n",
       "      <td>10.0</td>\n",
       "      <td>10.0</td>\n",
       "      <td>10.0</td>\n",
       "      <td>10.0</td>\n",
       "      <td>10.0</td>\n",
       "      <td>164.500000</td>\n",
       "    </tr>\n",
       "    <tr>\n",
       "      <th>4160438</th>\n",
       "      <td>3.0</td>\n",
       "      <td>100.0</td>\n",
       "      <td>10.0</td>\n",
       "      <td>10.0</td>\n",
       "      <td>10.0</td>\n",
       "      <td>10.0</td>\n",
       "      <td>10.0</td>\n",
       "      <td>229.000000</td>\n",
       "    </tr>\n",
       "    <tr>\n",
       "      <th>164430</th>\n",
       "      <td>3.0</td>\n",
       "      <td>100.0</td>\n",
       "      <td>10.0</td>\n",
       "      <td>10.0</td>\n",
       "      <td>10.0</td>\n",
       "      <td>10.0</td>\n",
       "      <td>10.0</td>\n",
       "      <td>250.000000</td>\n",
       "    </tr>\n",
       "    <tr>\n",
       "      <th>919364</th>\n",
       "      <td>9.0</td>\n",
       "      <td>100.0</td>\n",
       "      <td>10.0</td>\n",
       "      <td>10.0</td>\n",
       "      <td>10.0</td>\n",
       "      <td>10.0</td>\n",
       "      <td>10.0</td>\n",
       "      <td>600.000000</td>\n",
       "    </tr>\n",
       "  </tbody>\n",
       "</table>\n",
       "</div>"
      ],
      "text/plain": [
       "          host_listings_count  review_scores_rating  \\\n",
       "host_id                                               \n",
       "26475960                  3.0                 100.0   \n",
       "36993883                  4.0                 100.0   \n",
       "807116                    3.0                 100.0   \n",
       "7785901                   3.0                 100.0   \n",
       "1608733                   4.0                 100.0   \n",
       "36057637                  4.0                 100.0   \n",
       "4160438                   3.0                 100.0   \n",
       "164430                    3.0                 100.0   \n",
       "919364                    9.0                 100.0   \n",
       "\n",
       "          review_scores_communication  review_scores_location  \\\n",
       "host_id                                                         \n",
       "26475960                         10.0                    10.0   \n",
       "36993883                         10.0                    10.0   \n",
       "807116                           10.0                    10.0   \n",
       "7785901                          10.0                    10.0   \n",
       "1608733                          10.0                    10.0   \n",
       "36057637                         10.0                    10.0   \n",
       "4160438                          10.0                    10.0   \n",
       "164430                           10.0                    10.0   \n",
       "919364                           10.0                    10.0   \n",
       "\n",
       "          review_scores_cleanliness  review_scores_value  \\\n",
       "host_id                                                    \n",
       "26475960                       10.0                 10.0   \n",
       "36993883                       10.0                 10.0   \n",
       "807116                         10.0                 10.0   \n",
       "7785901                        10.0                 10.0   \n",
       "1608733                        10.0                 10.0   \n",
       "36057637                       10.0                 10.0   \n",
       "4160438                        10.0                 10.0   \n",
       "164430                         10.0                 10.0   \n",
       "919364                         10.0                 10.0   \n",
       "\n",
       "          review_scores_checkin       price  \n",
       "host_id                                      \n",
       "26475960                   10.0   45.000000  \n",
       "36993883                   10.0   62.000000  \n",
       "807116                     10.0   78.500000  \n",
       "7785901                    10.0  111.333333  \n",
       "1608733                    10.0  122.000000  \n",
       "36057637                   10.0  164.500000  \n",
       "4160438                    10.0  229.000000  \n",
       "164430                     10.0  250.000000  \n",
       "919364                     10.0  600.000000  "
      ]
     },
     "execution_count": 52,
     "metadata": {},
     "output_type": "execute_result"
    }
   ],
   "source": [
    "#Picking host with high summary review_score\n",
    "top_hosts = listing_hosts.query(\"host_listings_count >2 & review_scores_rating ==100 & review_scores_cleanliness==10 & review_scores_value==10 & review_scores_location==10\").sort_values(by = \"price\")\n",
    "top_hosts"
   ]
  },
  {
   "cell_type": "code",
   "execution_count": 53,
   "id": "4a7c1f1e-7fea-4aac-bb14-13815d141810",
   "metadata": {},
   "outputs": [
    {
     "data": {
      "text/html": [
       "<div>\n",
       "<style scoped>\n",
       "    .dataframe tbody tr th:only-of-type {\n",
       "        vertical-align: middle;\n",
       "    }\n",
       "\n",
       "    .dataframe tbody tr th {\n",
       "        vertical-align: top;\n",
       "    }\n",
       "\n",
       "    .dataframe thead th {\n",
       "        text-align: right;\n",
       "    }\n",
       "</style>\n",
       "<table border=\"1\" class=\"dataframe\">\n",
       "  <thead>\n",
       "    <tr style=\"text-align: right;\">\n",
       "      <th></th>\n",
       "      <th>host_id</th>\n",
       "      <th>host_name</th>\n",
       "      <th>street</th>\n",
       "      <th>review_scores_rating</th>\n",
       "      <th>property_type</th>\n",
       "      <th>review_scores_location</th>\n",
       "      <th>review_scores_value</th>\n",
       "      <th>review_scores_cleanliness</th>\n",
       "      <th>price</th>\n",
       "    </tr>\n",
       "  </thead>\n",
       "  <tbody>\n",
       "    <tr>\n",
       "      <th>2818</th>\n",
       "      <td>807116</td>\n",
       "      <td>Emily</td>\n",
       "      <td>12th Avenue East, Seattle, WA 98102, United St...</td>\n",
       "      <td>100.0</td>\n",
       "      <td>Apartment</td>\n",
       "      <td>10.0</td>\n",
       "      <td>10.0</td>\n",
       "      <td>10.0</td>\n",
       "      <td>39.0</td>\n",
       "    </tr>\n",
       "    <tr>\n",
       "      <th>2553</th>\n",
       "      <td>26475960</td>\n",
       "      <td>David</td>\n",
       "      <td>Northeast 55th Street, Seattle, WA 98105, Unit...</td>\n",
       "      <td>100.0</td>\n",
       "      <td>House</td>\n",
       "      <td>10.0</td>\n",
       "      <td>10.0</td>\n",
       "      <td>10.0</td>\n",
       "      <td>45.0</td>\n",
       "    </tr>\n",
       "    <tr>\n",
       "      <th>3748</th>\n",
       "      <td>36993883</td>\n",
       "      <td>Kate</td>\n",
       "      <td>North 46th Street, Seattle, WA 98103, United S...</td>\n",
       "      <td>100.0</td>\n",
       "      <td>House</td>\n",
       "      <td>10.0</td>\n",
       "      <td>10.0</td>\n",
       "      <td>10.0</td>\n",
       "      <td>62.0</td>\n",
       "    </tr>\n",
       "    <tr>\n",
       "      <th>1573</th>\n",
       "      <td>7785901</td>\n",
       "      <td>Andric And Drea</td>\n",
       "      <td>8th Ave, Seattle, WA 98104, United States</td>\n",
       "      <td>100.0</td>\n",
       "      <td>Apartment</td>\n",
       "      <td>10.0</td>\n",
       "      <td>10.0</td>\n",
       "      <td>10.0</td>\n",
       "      <td>105.0</td>\n",
       "    </tr>\n",
       "    <tr>\n",
       "      <th>1619</th>\n",
       "      <td>7785901</td>\n",
       "      <td>Andric And Drea</td>\n",
       "      <td>8th Avenue, Seattle, WA 98104, United States</td>\n",
       "      <td>100.0</td>\n",
       "      <td>Apartment</td>\n",
       "      <td>10.0</td>\n",
       "      <td>10.0</td>\n",
       "      <td>10.0</td>\n",
       "      <td>110.0</td>\n",
       "    </tr>\n",
       "    <tr>\n",
       "      <th>1600</th>\n",
       "      <td>7785901</td>\n",
       "      <td>Andric And Drea</td>\n",
       "      <td>8th Ave, Seattle, WA 98104, United States</td>\n",
       "      <td>100.0</td>\n",
       "      <td>Apartment</td>\n",
       "      <td>10.0</td>\n",
       "      <td>10.0</td>\n",
       "      <td>10.0</td>\n",
       "      <td>119.0</td>\n",
       "    </tr>\n",
       "    <tr>\n",
       "      <th>3213</th>\n",
       "      <td>36057637</td>\n",
       "      <td>Martha</td>\n",
       "      <td>6th Avenue North, Seattle, WA 98109, United St...</td>\n",
       "      <td>100.0</td>\n",
       "      <td>Townhouse</td>\n",
       "      <td>10.0</td>\n",
       "      <td>10.0</td>\n",
       "      <td>10.0</td>\n",
       "      <td>119.0</td>\n",
       "    </tr>\n",
       "    <tr>\n",
       "      <th>928</th>\n",
       "      <td>1608733</td>\n",
       "      <td>Ken &amp; Layna</td>\n",
       "      <td>19th Avenue, Seattle, WA 98122, United States</td>\n",
       "      <td>100.0</td>\n",
       "      <td>Townhouse</td>\n",
       "      <td>10.0</td>\n",
       "      <td>10.0</td>\n",
       "      <td>10.0</td>\n",
       "      <td>122.0</td>\n",
       "    </tr>\n",
       "    <tr>\n",
       "      <th>1254</th>\n",
       "      <td>4160438</td>\n",
       "      <td>Evan</td>\n",
       "      <td>2nd Avenue, Seattle, WA 98121, United States</td>\n",
       "      <td>100.0</td>\n",
       "      <td>Apartment</td>\n",
       "      <td>10.0</td>\n",
       "      <td>10.0</td>\n",
       "      <td>10.0</td>\n",
       "      <td>229.0</td>\n",
       "    </tr>\n",
       "    <tr>\n",
       "      <th>1037</th>\n",
       "      <td>164430</td>\n",
       "      <td>Jill</td>\n",
       "      <td>25th Ave S, Seattle, WA 98144, United States</td>\n",
       "      <td>100.0</td>\n",
       "      <td>House</td>\n",
       "      <td>10.0</td>\n",
       "      <td>10.0</td>\n",
       "      <td>10.0</td>\n",
       "      <td>250.0</td>\n",
       "    </tr>\n",
       "    <tr>\n",
       "      <th>3197</th>\n",
       "      <td>36057637</td>\n",
       "      <td>Martha</td>\n",
       "      <td>6th Avenue North, Seattle, WA 98109, United St...</td>\n",
       "      <td>100.0</td>\n",
       "      <td>Townhouse</td>\n",
       "      <td>10.0</td>\n",
       "      <td>10.0</td>\n",
       "      <td>10.0</td>\n",
       "      <td>310.0</td>\n",
       "    </tr>\n",
       "    <tr>\n",
       "      <th>251</th>\n",
       "      <td>919364</td>\n",
       "      <td>Jeff</td>\n",
       "      <td>Nob Hill Avenue North, Seattle, WA 98109, Unit...</td>\n",
       "      <td>100.0</td>\n",
       "      <td>House</td>\n",
       "      <td>10.0</td>\n",
       "      <td>10.0</td>\n",
       "      <td>10.0</td>\n",
       "      <td>600.0</td>\n",
       "    </tr>\n",
       "  </tbody>\n",
       "</table>\n",
       "</div>"
      ],
      "text/plain": [
       "       host_id        host_name  \\\n",
       "2818    807116            Emily   \n",
       "2553  26475960            David   \n",
       "3748  36993883             Kate   \n",
       "1573   7785901  Andric And Drea   \n",
       "1619   7785901  Andric And Drea   \n",
       "1600   7785901  Andric And Drea   \n",
       "3213  36057637           Martha   \n",
       "928    1608733      Ken & Layna   \n",
       "1254   4160438             Evan   \n",
       "1037    164430             Jill   \n",
       "3197  36057637           Martha   \n",
       "251     919364             Jeff   \n",
       "\n",
       "                                                 street  review_scores_rating  \\\n",
       "2818  12th Avenue East, Seattle, WA 98102, United St...                 100.0   \n",
       "2553  Northeast 55th Street, Seattle, WA 98105, Unit...                 100.0   \n",
       "3748  North 46th Street, Seattle, WA 98103, United S...                 100.0   \n",
       "1573          8th Ave, Seattle, WA 98104, United States                 100.0   \n",
       "1619       8th Avenue, Seattle, WA 98104, United States                 100.0   \n",
       "1600          8th Ave, Seattle, WA 98104, United States                 100.0   \n",
       "3213  6th Avenue North, Seattle, WA 98109, United St...                 100.0   \n",
       "928       19th Avenue, Seattle, WA 98122, United States                 100.0   \n",
       "1254       2nd Avenue, Seattle, WA 98121, United States                 100.0   \n",
       "1037       25th Ave S, Seattle, WA 98144, United States                 100.0   \n",
       "3197  6th Avenue North, Seattle, WA 98109, United St...                 100.0   \n",
       "251   Nob Hill Avenue North, Seattle, WA 98109, Unit...                 100.0   \n",
       "\n",
       "     property_type  review_scores_location  review_scores_value  \\\n",
       "2818     Apartment                    10.0                 10.0   \n",
       "2553         House                    10.0                 10.0   \n",
       "3748         House                    10.0                 10.0   \n",
       "1573     Apartment                    10.0                 10.0   \n",
       "1619     Apartment                    10.0                 10.0   \n",
       "1600     Apartment                    10.0                 10.0   \n",
       "3213     Townhouse                    10.0                 10.0   \n",
       "928      Townhouse                    10.0                 10.0   \n",
       "1254     Apartment                    10.0                 10.0   \n",
       "1037         House                    10.0                 10.0   \n",
       "3197     Townhouse                    10.0                 10.0   \n",
       "251          House                    10.0                 10.0   \n",
       "\n",
       "      review_scores_cleanliness  price  \n",
       "2818                       10.0   39.0  \n",
       "2553                       10.0   45.0  \n",
       "3748                       10.0   62.0  \n",
       "1573                       10.0  105.0  \n",
       "1619                       10.0  110.0  \n",
       "1600                       10.0  119.0  \n",
       "3213                       10.0  119.0  \n",
       "928                        10.0  122.0  \n",
       "1254                       10.0  229.0  \n",
       "1037                       10.0  250.0  \n",
       "3197                       10.0  310.0  \n",
       "251                        10.0  600.0  "
      ]
     },
     "execution_count": 53,
     "metadata": {},
     "output_type": "execute_result"
    }
   ],
   "source": [
    "#Getting host information\n",
    "top_hosts_profile = listings[listings[\"host_id\"].isin(top_hosts.index)][[\"host_id\",\"host_name\",\"street\",\"review_scores_rating\",\"property_type\",\"review_scores_location\",\\\n",
    "                                                     \"review_scores_value\",\"review_scores_cleanliness\",\"price\"]].dropna().sort_values(by=\"price\")\n",
    "top_hosts_profile"
   ]
  },
  {
   "cell_type": "markdown",
   "id": "6f5fe6f9-cd33-443f-938d-1ddeb375099e",
   "metadata": {},
   "source": [
    "### 3.3 Do hosts have active responses are preferable by guests? \n",
    "We will look two important features: \"host_response_time\" and \"host_response_rate\" to see if customers likely to go with listing hosts have active responses."
   ]
  },
  {
   "cell_type": "code",
   "execution_count": 69,
   "id": "6a5cca35-742f-426a-b62c-e1b09ff7f933",
   "metadata": {},
   "outputs": [
    {
     "data": {
      "text/html": [
       "<div>\n",
       "<style scoped>\n",
       "    .dataframe tbody tr th:only-of-type {\n",
       "        vertical-align: middle;\n",
       "    }\n",
       "\n",
       "    .dataframe tbody tr th {\n",
       "        vertical-align: top;\n",
       "    }\n",
       "\n",
       "    .dataframe thead th {\n",
       "        text-align: right;\n",
       "    }\n",
       "</style>\n",
       "<table border=\"1\" class=\"dataframe\">\n",
       "  <thead>\n",
       "    <tr style=\"text-align: right;\">\n",
       "      <th></th>\n",
       "      <th>price</th>\n",
       "      <th>security_deposit</th>\n",
       "      <th>cleaning_fee</th>\n",
       "      <th>review_scores_rating</th>\n",
       "      <th>review_scores_cleanliness</th>\n",
       "      <th>review_scores_checkin</th>\n",
       "      <th>number_of_reviews</th>\n",
       "      <th>review_scores_communication</th>\n",
       "      <th>review_scores_location</th>\n",
       "      <th>review_scores_value</th>\n",
       "    </tr>\n",
       "    <tr>\n",
       "      <th>host_response_time</th>\n",
       "      <th></th>\n",
       "      <th></th>\n",
       "      <th></th>\n",
       "      <th></th>\n",
       "      <th></th>\n",
       "      <th></th>\n",
       "      <th></th>\n",
       "      <th></th>\n",
       "      <th></th>\n",
       "      <th></th>\n",
       "    </tr>\n",
       "  </thead>\n",
       "  <tbody>\n",
       "    <tr>\n",
       "      <th>a few days or more</th>\n",
       "      <td>129.157895</td>\n",
       "      <td>445.833333</td>\n",
       "      <td>62.727273</td>\n",
       "      <td>87.793103</td>\n",
       "      <td>8.551724</td>\n",
       "      <td>9.413793</td>\n",
       "      <td>11.657895</td>\n",
       "      <td>9.206897</td>\n",
       "      <td>9.448276</td>\n",
       "      <td>8.862069</td>\n",
       "    </tr>\n",
       "    <tr>\n",
       "      <th>within a day</th>\n",
       "      <td>132.819095</td>\n",
       "      <td>291.904545</td>\n",
       "      <td>73.649758</td>\n",
       "      <td>94.264831</td>\n",
       "      <td>9.513800</td>\n",
       "      <td>9.726115</td>\n",
       "      <td>13.144054</td>\n",
       "      <td>9.773305</td>\n",
       "      <td>9.588983</td>\n",
       "      <td>9.387712</td>\n",
       "    </tr>\n",
       "    <tr>\n",
       "      <th>within a few hours</th>\n",
       "      <td>133.824380</td>\n",
       "      <td>280.574297</td>\n",
       "      <td>63.932773</td>\n",
       "      <td>93.812425</td>\n",
       "      <td>9.508373</td>\n",
       "      <td>9.759904</td>\n",
       "      <td>24.845041</td>\n",
       "      <td>9.760766</td>\n",
       "      <td>9.558223</td>\n",
       "      <td>9.379352</td>\n",
       "    </tr>\n",
       "    <tr>\n",
       "      <th>within an hour</th>\n",
       "      <td>116.358747</td>\n",
       "      <td>272.715210</td>\n",
       "      <td>56.151014</td>\n",
       "      <td>95.143984</td>\n",
       "      <td>9.635766</td>\n",
       "      <td>9.817763</td>\n",
       "      <td>28.882979</td>\n",
       "      <td>9.850099</td>\n",
       "      <td>9.653289</td>\n",
       "      <td>9.526316</td>\n",
       "    </tr>\n",
       "  </tbody>\n",
       "</table>\n",
       "</div>"
      ],
      "text/plain": [
       "                         price  security_deposit  cleaning_fee  \\\n",
       "host_response_time                                               \n",
       "a few days or more  129.157895        445.833333     62.727273   \n",
       "within a day        132.819095        291.904545     73.649758   \n",
       "within a few hours  133.824380        280.574297     63.932773   \n",
       "within an hour      116.358747        272.715210     56.151014   \n",
       "\n",
       "                    review_scores_rating  review_scores_cleanliness  \\\n",
       "host_response_time                                                    \n",
       "a few days or more             87.793103                   8.551724   \n",
       "within a day                   94.264831                   9.513800   \n",
       "within a few hours             93.812425                   9.508373   \n",
       "within an hour                 95.143984                   9.635766   \n",
       "\n",
       "                    review_scores_checkin  number_of_reviews  \\\n",
       "host_response_time                                             \n",
       "a few days or more               9.413793          11.657895   \n",
       "within a day                     9.726115          13.144054   \n",
       "within a few hours               9.759904          24.845041   \n",
       "within an hour                   9.817763          28.882979   \n",
       "\n",
       "                    review_scores_communication  review_scores_location  \\\n",
       "host_response_time                                                        \n",
       "a few days or more                     9.206897                9.448276   \n",
       "within a day                           9.773305                9.588983   \n",
       "within a few hours                     9.760766                9.558223   \n",
       "within an hour                         9.850099                9.653289   \n",
       "\n",
       "                    review_scores_value  \n",
       "host_response_time                       \n",
       "a few days or more             8.862069  \n",
       "within a day                   9.387712  \n",
       "within a few hours             9.379352  \n",
       "within an hour                 9.526316  "
      ]
     },
     "execution_count": 69,
     "metadata": {},
     "output_type": "execute_result"
    }
   ],
   "source": [
    "#Review_scores on each group of response_time\n",
    "listings.groupby(\"host_response_time\").mean()[[\"price\",\"security_deposit\",\"cleaning_fee\",\"review_scores_rating\",\"review_scores_cleanliness\",\"review_scores_checkin\",\\\n",
    "                                                   \"number_of_reviews\",\"review_scores_communication\",\"review_scores_location\",\"review_scores_value\"]]"
   ]
  },
  {
   "cell_type": "markdown",
   "id": "c60a37fb-0965-4125-98e0-918e6002107a",
   "metadata": {},
   "source": [
    "The hosts with faster responses to guests will likely get more favors from customers. We will use another method to reaffirm above info"
   ]
  },
  {
   "cell_type": "code",
   "execution_count": 70,
   "id": "c8691ba5-cc3c-4f83-bbc7-9749319f578c",
   "metadata": {},
   "outputs": [],
   "source": [
    "def encode_response_time(x):\n",
    "    \"\"\"\n",
    "    We encode order categorical variable x into numeric type,\n",
    "    the faster response, the higher number is assigned.\n",
    "    \"\"\"\n",
    "    if x == \"within an hour\":\n",
    "        return 4\n",
    "    elif x==\"within a few hours\":\n",
    "        return 3\n",
    "    elif x == \"within a day\":\n",
    "        return 2\n",
    "    elif x==\"a few days or more\":\n",
    "        return 1\n",
    "    else:\n",
    "        return np.nan\n",
    "    "
   ]
  },
  {
   "cell_type": "code",
   "execution_count": null,
   "id": "6531c1aa-80bb-447d-832b-dac7528deda5",
   "metadata": {},
   "outputs": [],
   "source": [
    "#Apply encode function to response_time_encoding feature\n",
    "listings[\"response_time_encoding\"] = listings.host_response_time.map(lambda x: encode_response_time(x))\n",
    "# We also convert response rate into numeric variable\n",
    "listings[\"host_response_rate\"] = pd.to_numeric(listings.host_response_rate.str[:-1],errors='coerce')"
   ]
  },
  {
   "cell_type": "code",
   "execution_count": 59,
   "id": "dca410d0-31cd-4827-b741-0a75c6ceca66",
   "metadata": {},
   "outputs": [
    {
     "data": {
      "text/html": [
       "<div>\n",
       "<style scoped>\n",
       "    .dataframe tbody tr th:only-of-type {\n",
       "        vertical-align: middle;\n",
       "    }\n",
       "\n",
       "    .dataframe tbody tr th {\n",
       "        vertical-align: top;\n",
       "    }\n",
       "\n",
       "    .dataframe thead th {\n",
       "        text-align: right;\n",
       "    }\n",
       "</style>\n",
       "<table border=\"1\" class=\"dataframe\">\n",
       "  <thead>\n",
       "    <tr style=\"text-align: right;\">\n",
       "      <th></th>\n",
       "      <th>review_scores_rating</th>\n",
       "      <th>review_scores_cleanliness</th>\n",
       "      <th>review_scores_location</th>\n",
       "      <th>review_scores_value</th>\n",
       "      <th>response_time_encoding</th>\n",
       "    </tr>\n",
       "  </thead>\n",
       "  <tbody>\n",
       "    <tr>\n",
       "      <th>review_scores_rating</th>\n",
       "      <td>1.000000</td>\n",
       "      <td>0.642882</td>\n",
       "      <td>0.368423</td>\n",
       "      <td>0.696534</td>\n",
       "      <td>0.098588</td>\n",
       "    </tr>\n",
       "    <tr>\n",
       "      <th>review_scores_cleanliness</th>\n",
       "      <td>0.642882</td>\n",
       "      <td>1.000000</td>\n",
       "      <td>0.277834</td>\n",
       "      <td>0.524354</td>\n",
       "      <td>0.108059</td>\n",
       "    </tr>\n",
       "    <tr>\n",
       "      <th>review_scores_location</th>\n",
       "      <td>0.368423</td>\n",
       "      <td>0.277834</td>\n",
       "      <td>1.000000</td>\n",
       "      <td>0.368252</td>\n",
       "      <td>0.058672</td>\n",
       "    </tr>\n",
       "    <tr>\n",
       "      <th>review_scores_value</th>\n",
       "      <td>0.696534</td>\n",
       "      <td>0.524354</td>\n",
       "      <td>0.368252</td>\n",
       "      <td>1.000000</td>\n",
       "      <td>0.104967</td>\n",
       "    </tr>\n",
       "    <tr>\n",
       "      <th>response_time_encoding</th>\n",
       "      <td>0.098588</td>\n",
       "      <td>0.108059</td>\n",
       "      <td>0.058672</td>\n",
       "      <td>0.104967</td>\n",
       "      <td>1.000000</td>\n",
       "    </tr>\n",
       "  </tbody>\n",
       "</table>\n",
       "</div>"
      ],
      "text/plain": [
       "                           review_scores_rating  review_scores_cleanliness  \\\n",
       "review_scores_rating                   1.000000                   0.642882   \n",
       "review_scores_cleanliness              0.642882                   1.000000   \n",
       "review_scores_location                 0.368423                   0.277834   \n",
       "review_scores_value                    0.696534                   0.524354   \n",
       "response_time_encoding                 0.098588                   0.108059   \n",
       "\n",
       "                           review_scores_location  review_scores_value  \\\n",
       "review_scores_rating                     0.368423             0.696534   \n",
       "review_scores_cleanliness                0.277834             0.524354   \n",
       "review_scores_location                   1.000000             0.368252   \n",
       "review_scores_value                      0.368252             1.000000   \n",
       "response_time_encoding                   0.058672             0.104967   \n",
       "\n",
       "                           response_time_encoding  \n",
       "review_scores_rating                     0.098588  \n",
       "review_scores_cleanliness                0.108059  \n",
       "review_scores_location                   0.058672  \n",
       "review_scores_value                      0.104967  \n",
       "response_time_encoding                   1.000000  "
      ]
     },
     "execution_count": 59,
     "metadata": {},
     "output_type": "execute_result"
    }
   ],
   "source": [
    "#Look at correlation matrix\n",
    "listings[[\"review_scores_rating\",\"review_scores_cleanliness\",\"review_scores_location\",\"review_scores_value\",\"response_time_encoding\"]].corr()"
   ]
  },
  {
   "cell_type": "code",
   "execution_count": 61,
   "id": "298998be-94ec-4607-a311-2165d77aa653",
   "metadata": {},
   "outputs": [
    {
     "data": {
      "image/png": "[encoded data removed]",
      "text/plain": [
       "<Figure size 432x288 with 2 Axes>"
      ]
     },
     "metadata": {
      "needs_background": "light"
     },
     "output_type": "display_data"
    }
   ],
   "source": [
    "sns.heatmap(listings[[\"review_scores_rating\",\"review_scores_cleanliness\",\"review_scores_location\",\"review_scores_value\",\"response_time_encoding\",\"host_response_rate\"]].corr(),annot=True);"
   ]
  },
  {
   "cell_type": "markdown",
   "id": "b124cc48-f39e-4989-ae29-723cec0a521e",
   "metadata": {},
   "source": [
    "### 3.4 What property type"
   ]
  },
  {
   "cell_type": "code",
   "execution_count": 62,
   "id": "87a0952b-86b8-42e3-96cc-3d0e037592ad",
   "metadata": {},
   "outputs": [
    {
     "data": {
      "text/plain": [
       "Index(['Apartment', 'Bed & Breakfast', 'Condominium', 'House', 'Loft',\n",
       "       'Townhouse'],\n",
       "      dtype='object', name='property_type')"
      ]
     },
     "execution_count": 62,
     "metadata": {},
     "output_type": "execute_result"
    }
   ],
   "source": [
    "property_list = listings.groupby(\"property_type\").count()['id'].loc[lambda x:x>30].keys()\n",
    "property_list"
   ]
  },
  {
   "cell_type": "code",
   "execution_count": 63,
   "id": "f3869903-a4d8-4484-b200-65f8d153d6a1",
   "metadata": {},
   "outputs": [],
   "source": [
    "listings_property = listings[listings['property_type'].isin(property_list)]"
   ]
  },
  {
   "cell_type": "code",
   "execution_count": 64,
   "id": "158ba9e1-1570-43e1-a497-a76551485744",
   "metadata": {},
   "outputs": [
    {
     "data": {
      "text/html": [
       "<div>\n",
       "<style scoped>\n",
       "    .dataframe tbody tr th:only-of-type {\n",
       "        vertical-align: middle;\n",
       "    }\n",
       "\n",
       "    .dataframe tbody tr th {\n",
       "        vertical-align: top;\n",
       "    }\n",
       "\n",
       "    .dataframe thead th {\n",
       "        text-align: right;\n",
       "    }\n",
       "</style>\n",
       "<table border=\"1\" class=\"dataframe\">\n",
       "  <thead>\n",
       "    <tr style=\"text-align: right;\">\n",
       "      <th></th>\n",
       "      <th>price</th>\n",
       "      <th>review_scores_rating</th>\n",
       "      <th>review_scores_cleanliness</th>\n",
       "      <th>review_scores_checkin</th>\n",
       "      <th>review_scores_communication</th>\n",
       "      <th>review_scores_location</th>\n",
       "      <th>review_scores_value</th>\n",
       "    </tr>\n",
       "    <tr>\n",
       "      <th>property_type</th>\n",
       "      <th></th>\n",
       "      <th></th>\n",
       "      <th></th>\n",
       "      <th></th>\n",
       "      <th></th>\n",
       "      <th></th>\n",
       "      <th></th>\n",
       "    </tr>\n",
       "  </thead>\n",
       "  <tbody>\n",
       "    <tr>\n",
       "      <th>Apartment</th>\n",
       "      <td>122.932670</td>\n",
       "      <td>93.977591</td>\n",
       "      <td>9.529123</td>\n",
       "      <td>9.750000</td>\n",
       "      <td>9.789621</td>\n",
       "      <td>9.683509</td>\n",
       "      <td>9.357895</td>\n",
       "    </tr>\n",
       "    <tr>\n",
       "      <th>Bed &amp; Breakfast</th>\n",
       "      <td>112.054054</td>\n",
       "      <td>95.730769</td>\n",
       "      <td>9.615385</td>\n",
       "      <td>9.961538</td>\n",
       "      <td>9.884615</td>\n",
       "      <td>9.538462</td>\n",
       "      <td>9.423077</td>\n",
       "    </tr>\n",
       "    <tr>\n",
       "      <th>Condominium</th>\n",
       "      <td>151.109890</td>\n",
       "      <td>95.318841</td>\n",
       "      <td>9.652174</td>\n",
       "      <td>9.735294</td>\n",
       "      <td>9.855072</td>\n",
       "      <td>9.852941</td>\n",
       "      <td>9.470588</td>\n",
       "    </tr>\n",
       "    <tr>\n",
       "      <th>House</th>\n",
       "      <td>132.351414</td>\n",
       "      <td>94.833562</td>\n",
       "      <td>9.558682</td>\n",
       "      <td>9.813618</td>\n",
       "      <td>9.819616</td>\n",
       "      <td>9.531593</td>\n",
       "      <td>9.521649</td>\n",
       "    </tr>\n",
       "    <tr>\n",
       "      <th>Loft</th>\n",
       "      <td>135.700000</td>\n",
       "      <td>95.454545</td>\n",
       "      <td>9.606061</td>\n",
       "      <td>9.878788</td>\n",
       "      <td>9.848485</td>\n",
       "      <td>9.636364</td>\n",
       "      <td>9.484848</td>\n",
       "    </tr>\n",
       "    <tr>\n",
       "      <th>Townhouse</th>\n",
       "      <td>129.457627</td>\n",
       "      <td>96.625000</td>\n",
       "      <td>9.750000</td>\n",
       "      <td>9.875000</td>\n",
       "      <td>9.900000</td>\n",
       "      <td>9.587500</td>\n",
       "      <td>9.712500</td>\n",
       "    </tr>\n",
       "  </tbody>\n",
       "</table>\n",
       "</div>"
      ],
      "text/plain": [
       "                      price  review_scores_rating  review_scores_cleanliness  \\\n",
       "property_type                                                                  \n",
       "Apartment        122.932670             93.977591                   9.529123   \n",
       "Bed & Breakfast  112.054054             95.730769                   9.615385   \n",
       "Condominium      151.109890             95.318841                   9.652174   \n",
       "House            132.351414             94.833562                   9.558682   \n",
       "Loft             135.700000             95.454545                   9.606061   \n",
       "Townhouse        129.457627             96.625000                   9.750000   \n",
       "\n",
       "                 review_scores_checkin  review_scores_communication  \\\n",
       "property_type                                                         \n",
       "Apartment                     9.750000                     9.789621   \n",
       "Bed & Breakfast               9.961538                     9.884615   \n",
       "Condominium                   9.735294                     9.855072   \n",
       "House                         9.813618                     9.819616   \n",
       "Loft                          9.878788                     9.848485   \n",
       "Townhouse                     9.875000                     9.900000   \n",
       "\n",
       "                 review_scores_location  review_scores_value  \n",
       "property_type                                                 \n",
       "Apartment                      9.683509             9.357895  \n",
       "Bed & Breakfast                9.538462             9.423077  \n",
       "Condominium                    9.852941             9.470588  \n",
       "House                          9.531593             9.521649  \n",
       "Loft                           9.636364             9.484848  \n",
       "Townhouse                      9.587500             9.712500  "
      ]
     },
     "execution_count": 64,
     "metadata": {},
     "output_type": "execute_result"
    }
   ],
   "source": [
    "listings_property.groupby(\"property_type\").mean()[[\"price\",\"review_scores_rating\",\"review_scores_cleanliness\",\"review_scores_checkin\",\\\n",
    "                                                   \"review_scores_communication\",\"review_scores_location\",\"review_scores_value\"]]"
   ]
  },
  {
   "cell_type": "code",
   "execution_count": 65,
   "id": "d365b1d0-2f39-470d-afef-c489ac6a1377",
   "metadata": {},
   "outputs": [
    {
     "data": {
      "image/png": "[encoded data removed]",
      "text/plain": [
       "<Figure size 432x288 with 1 Axes>"
      ]
     },
     "metadata": {
      "needs_background": "light"
     },
     "output_type": "display_data"
    }
   ],
   "source": [
    "listings_property.groupby(\"property_type\").mean()['price'].plot.bar();"
   ]
  },
  {
   "cell_type": "code",
   "execution_count": 67,
   "id": "68cf23d9-8a84-4a06-bacf-c3c8c5f33ae5",
   "metadata": {},
   "outputs": [
    {
     "data": {
      "image/png": "[encoded data removed]",
      "text/plain": [
       "<Figure size 432x288 with 1 Axes>"
      ]
     },
     "metadata": {
      "needs_background": "light"
     },
     "output_type": "display_data"
    }
   ],
   "source": [
    "listings_property.groupby(\"property_type\").count()['price'].plot.bar();"
   ]
  }
 ],
 "metadata": {
  "kernelspec": {
   "display_name": "Python 3 (ipykernel)",
   "language": "python",
   "name": "python3"
  },
  "language_info": {
   "codemirror_mode": {
    "name": "ipython",
    "version": 3
   },
   "file_extension": ".py",
   "mimetype": "text/x-python",
   "name": "python",
   "nbconvert_exporter": "python",
   "pygments_lexer": "ipython3",
   "version": "3.9.12"
  }
 },
 "nbformat": 4,
 "nbformat_minor": 5
}
